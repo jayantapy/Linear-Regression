{
  "nbformat": 4,
  "nbformat_minor": 0,
  "metadata": {
    "colab": {
      "name": "Linear_Regression from scratch.ipynb",
      "provenance": [],
      "collapsed_sections": [],
      "authorship_tag": "ABX9TyMEUiIbuWPqvea7+21BaBbI",
      "include_colab_link": true
    },
    "kernelspec": {
      "name": "python3",
      "display_name": "Python 3"
    },
    "language_info": {
      "name": "python"
    }
  },
  "cells": [
    {
      "cell_type": "markdown",
      "metadata": {
        "id": "view-in-github",
        "colab_type": "text"
      },
      "source": [
        "<a href=\"https://colab.research.google.com/github/jayantapy/Linear-Regression/blob/main/Linear%20Regression%201/Linear_Regression_from_scratch.ipynb\" target=\"_parent\"><img src=\"https://colab.research.google.com/assets/colab-badge.svg\" alt=\"Open In Colab\"/></a>"
      ]
    },
    {
      "cell_type": "markdown",
      "metadata": {
        "id": "Yo_idJXEHs-0"
      },
      "source": [
        "Importing the necessary libraries"
      ]
    },
    {
      "cell_type": "code",
      "metadata": {
        "id": "zgLNhUUj7mlF"
      },
      "source": [
        "import pandas as pd\n",
        "import numpy as np\n",
        "from matplotlib import pyplot as plt"
      ],
      "execution_count": 1,
      "outputs": []
    },
    {
      "cell_type": "markdown",
      "metadata": {
        "id": "AM3koAT5H40r"
      },
      "source": [
        "Creating the dataframe"
      ]
    },
    {
      "cell_type": "code",
      "metadata": {
        "colab": {
          "base_uri": "https://localhost:8080/",
          "height": 195
        },
        "id": "ZDotAU_vHzdu",
        "outputId": "cbc9fd59-5ad3-4e57-af3d-7861459d816c"
      },
      "source": [
        "data = {'x': [0,1,2,3,4,5,6,7,8,9], 'y': [0,2,3,5,8,13,21,34,55,89]}  \n",
        "df = pd.DataFrame(data)\n",
        "df.head()"
      ],
      "execution_count": 2,
      "outputs": [
        {
          "output_type": "execute_result",
          "data": {
            "text/html": [
              "<div>\n",
              "<style scoped>\n",
              "    .dataframe tbody tr th:only-of-type {\n",
              "        vertical-align: middle;\n",
              "    }\n",
              "\n",
              "    .dataframe tbody tr th {\n",
              "        vertical-align: top;\n",
              "    }\n",
              "\n",
              "    .dataframe thead th {\n",
              "        text-align: right;\n",
              "    }\n",
              "</style>\n",
              "<table border=\"1\" class=\"dataframe\">\n",
              "  <thead>\n",
              "    <tr style=\"text-align: right;\">\n",
              "      <th></th>\n",
              "      <th>x</th>\n",
              "      <th>y</th>\n",
              "    </tr>\n",
              "  </thead>\n",
              "  <tbody>\n",
              "    <tr>\n",
              "      <th>0</th>\n",
              "      <td>0</td>\n",
              "      <td>0</td>\n",
              "    </tr>\n",
              "    <tr>\n",
              "      <th>1</th>\n",
              "      <td>1</td>\n",
              "      <td>2</td>\n",
              "    </tr>\n",
              "    <tr>\n",
              "      <th>2</th>\n",
              "      <td>2</td>\n",
              "      <td>3</td>\n",
              "    </tr>\n",
              "    <tr>\n",
              "      <th>3</th>\n",
              "      <td>3</td>\n",
              "      <td>5</td>\n",
              "    </tr>\n",
              "    <tr>\n",
              "      <th>4</th>\n",
              "      <td>4</td>\n",
              "      <td>8</td>\n",
              "    </tr>\n",
              "  </tbody>\n",
              "</table>\n",
              "</div>"
            ],
            "text/plain": [
              "   x  y\n",
              "0  0  0\n",
              "1  1  2\n",
              "2  2  3\n",
              "3  3  5\n",
              "4  4  8"
            ]
          },
          "metadata": {
            "tags": []
          },
          "execution_count": 2
        }
      ]
    },
    {
      "cell_type": "code",
      "metadata": {
        "id": "Va91-s668UhM"
      },
      "source": [
        "xmean = np.mean(df['x'])  #Mean of x\n",
        "ymean = np.mean(df['y'])  #Mean of y"
      ],
      "execution_count": 3,
      "outputs": []
    },
    {
      "cell_type": "markdown",
      "metadata": {
        "id": "JPYp6Q8VHj-N"
      },
      "source": [
        "FINDING X_Variance and Covariance values"
      ]
    },
    {
      "cell_type": "code",
      "metadata": {
        "id": "iTN2IUBtHV0k"
      },
      "source": [
        "df['xvar'] = (df['x'] - xmean)**2\n",
        "df['xycov'] = ((df['x'] - xmean) * (df['y'] - ymean))"
      ],
      "execution_count": 4,
      "outputs": []
    },
    {
      "cell_type": "markdown",
      "metadata": {
        "id": "7ArQrYrbIAhc"
      },
      "source": [
        "Calculate slope(m) and x-intercept(c)"
      ]
    },
    {
      "cell_type": "code",
      "metadata": {
        "colab": {
          "base_uri": "https://localhost:8080/"
        },
        "id": "LcuWRI72HduL",
        "outputId": "c9337010-93ba-49fe-8d1e-857e9b4897d3"
      },
      "source": [
        "m = df['xycov'].sum() / df['xvar'].sum()\n",
        "c = ymean - (m * xmean)\n",
        "print(f'c = {c}')\n",
        "print(f'm = {m}')"
      ],
      "execution_count": 5,
      "outputs": [
        {
          "output_type": "stream",
          "text": [
            "c = -14.636363636363633\n",
            "m = 8.363636363636363\n"
          ],
          "name": "stdout"
        }
      ]
    },
    {
      "cell_type": "code",
      "metadata": {
        "colab": {
          "base_uri": "https://localhost:8080/",
          "height": 343
        },
        "id": "TGBe28x9809J",
        "outputId": "0f33b8c6-3f6d-4e96-f47f-fe565e1a29e7"
      },
      "source": [
        "df"
      ],
      "execution_count": 6,
      "outputs": [
        {
          "output_type": "execute_result",
          "data": {
            "text/html": [
              "<div>\n",
              "<style scoped>\n",
              "    .dataframe tbody tr th:only-of-type {\n",
              "        vertical-align: middle;\n",
              "    }\n",
              "\n",
              "    .dataframe tbody tr th {\n",
              "        vertical-align: top;\n",
              "    }\n",
              "\n",
              "    .dataframe thead th {\n",
              "        text-align: right;\n",
              "    }\n",
              "</style>\n",
              "<table border=\"1\" class=\"dataframe\">\n",
              "  <thead>\n",
              "    <tr style=\"text-align: right;\">\n",
              "      <th></th>\n",
              "      <th>x</th>\n",
              "      <th>y</th>\n",
              "      <th>xvar</th>\n",
              "      <th>xycov</th>\n",
              "    </tr>\n",
              "  </thead>\n",
              "  <tbody>\n",
              "    <tr>\n",
              "      <th>0</th>\n",
              "      <td>0</td>\n",
              "      <td>0</td>\n",
              "      <td>20.25</td>\n",
              "      <td>103.5</td>\n",
              "    </tr>\n",
              "    <tr>\n",
              "      <th>1</th>\n",
              "      <td>1</td>\n",
              "      <td>2</td>\n",
              "      <td>12.25</td>\n",
              "      <td>73.5</td>\n",
              "    </tr>\n",
              "    <tr>\n",
              "      <th>2</th>\n",
              "      <td>2</td>\n",
              "      <td>3</td>\n",
              "      <td>6.25</td>\n",
              "      <td>50.0</td>\n",
              "    </tr>\n",
              "    <tr>\n",
              "      <th>3</th>\n",
              "      <td>3</td>\n",
              "      <td>5</td>\n",
              "      <td>2.25</td>\n",
              "      <td>27.0</td>\n",
              "    </tr>\n",
              "    <tr>\n",
              "      <th>4</th>\n",
              "      <td>4</td>\n",
              "      <td>8</td>\n",
              "      <td>0.25</td>\n",
              "      <td>7.5</td>\n",
              "    </tr>\n",
              "    <tr>\n",
              "      <th>5</th>\n",
              "      <td>5</td>\n",
              "      <td>13</td>\n",
              "      <td>0.25</td>\n",
              "      <td>-5.0</td>\n",
              "    </tr>\n",
              "    <tr>\n",
              "      <th>6</th>\n",
              "      <td>6</td>\n",
              "      <td>21</td>\n",
              "      <td>2.25</td>\n",
              "      <td>-3.0</td>\n",
              "    </tr>\n",
              "    <tr>\n",
              "      <th>7</th>\n",
              "      <td>7</td>\n",
              "      <td>34</td>\n",
              "      <td>6.25</td>\n",
              "      <td>27.5</td>\n",
              "    </tr>\n",
              "    <tr>\n",
              "      <th>8</th>\n",
              "      <td>8</td>\n",
              "      <td>55</td>\n",
              "      <td>12.25</td>\n",
              "      <td>112.0</td>\n",
              "    </tr>\n",
              "    <tr>\n",
              "      <th>9</th>\n",
              "      <td>9</td>\n",
              "      <td>89</td>\n",
              "      <td>20.25</td>\n",
              "      <td>297.0</td>\n",
              "    </tr>\n",
              "  </tbody>\n",
              "</table>\n",
              "</div>"
            ],
            "text/plain": [
              "   x   y   xvar  xycov\n",
              "0  0   0  20.25  103.5\n",
              "1  1   2  12.25   73.5\n",
              "2  2   3   6.25   50.0\n",
              "3  3   5   2.25   27.0\n",
              "4  4   8   0.25    7.5\n",
              "5  5  13   0.25   -5.0\n",
              "6  6  21   2.25   -3.0\n",
              "7  7  34   6.25   27.5\n",
              "8  8  55  12.25  112.0\n",
              "9  9  89  20.25  297.0"
            ]
          },
          "metadata": {
            "tags": []
          },
          "execution_count": 6
        }
      ]
    },
    {
      "cell_type": "markdown",
      "metadata": {
        "id": "IO12jqJnvnQP"
      },
      "source": [
        "![download (1).png](data:image/png;base64,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)\n",
        "\n",
        "\n",
        "\n",
        "\n"
      ]
    },
    {
      "cell_type": "code",
      "metadata": {
        "id": "N8pap2cn_rhC"
      },
      "source": [
        "ypred = c + m * df['x']\n",
        "ss_res = (df['y'] - ypred)**2\n",
        "ss_res = ss_res.sum()    # Residual error\n",
        "ss_reg = (ypred - ymean)**2\n",
        "ss_reg = ss_reg.sum()    # Regression error\n",
        "ss_total = ss_reg + ss_res  # Total error"
      ],
      "execution_count": 7,
      "outputs": []
    },
    {
      "cell_type": "markdown",
      "metadata": {
        "id": "QI5zm0nxILRu"
      },
      "source": [
        "PLOTTING THE CURVE"
      ]
    },
    {
      "cell_type": "code",
      "metadata": {
        "colab": {
          "base_uri": "https://localhost:8080/",
          "height": 404
        },
        "id": "Jg60uBfT8sWK",
        "outputId": "831afa3c-e0f2-4d8b-9745-105ce11fff1e"
      },
      "source": [
        "plt.figure(figsize=(12, 6))\n",
        "plt.plot(df['x'], ypred)     # regression line\n",
        "plt.plot(df['x'], df['y'], 'ro')   # scatter plot showing actual data\n",
        "plt.title('Actual vs Predicted')\n",
        "plt.xlabel('x')\n",
        "plt.ylabel('y')\n",
        "\n",
        "plt.show()\n"
      ],
      "execution_count": 8,
      "outputs": [
        {
          "output_type": "display_data",
          "data": {
            "image/png": "[encoded data removed]",
            "text/plain": [
              "<Figure size 864x432 with 1 Axes>"
            ]
          },
          "metadata": {
            "tags": [],
            "needs_background": "light"
          }
        }
      ]
    },
    {
      "cell_type": "markdown",
      "metadata": {
        "id": "LZ4AjlD6GjZT"
      },
      "source": [
        "R-SQUARE VALUE"
      ]
    },
    {
      "cell_type": "code",
      "metadata": {
        "colab": {
          "base_uri": "https://localhost:8080/"
        },
        "id": "vlI0frScBbSp",
        "outputId": "d24836d6-e57d-4e57-bafa-0e502ca981ef"
      },
      "source": [
        "R_square = ss_reg/ss_total\n",
        "R_square"
      ],
      "execution_count": 9,
      "outputs": [
        {
          "output_type": "execute_result",
          "data": {
            "text/plain": [
              "0.7670001449905756"
            ]
          },
          "metadata": {
            "tags": []
          },
          "execution_count": 9
        }
      ]
    },
    {
      "cell_type": "code",
      "metadata": {
        "id": "j0kECYhg9DCT"
      },
      "source": [
        ""
      ],
      "execution_count": null,
      "outputs": []
    }
  ]
}